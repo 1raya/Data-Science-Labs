{
  "nbformat": 4,
  "nbformat_minor": 0,
  "metadata": {
    "colab": {
      "provenance": [],
      "authorship_tag": "ABX9TyM+vnHE/toOv5aSz/a+X7vK"
    },
    "kernelspec": {
      "name": "python3",
      "display_name": "Python 3"
    },
    "language_info": {
      "name": "python"
    }
  },
  "cells": [
    {
      "cell_type": "code",
      "execution_count": 1,
      "metadata": {
        "id": "kQV0uDsYQhlp"
      },
      "outputs": [],
      "source": [
        "from keras import layers\n",
        "from keras import models\n",
        "from keras.datasets import mnist\n",
        "from keras.utils import to_categorical"
      ]
    },
    {
      "cell_type": "code",
      "source": [
        "model = models.Sequential()"
      ],
      "metadata": {
        "id": "ttrTHltzQlEI"
      },
      "execution_count": 2,
      "outputs": []
    },
    {
      "cell_type": "code",
      "source": [
        "model.add(layers.Conv2D(32,(5,5),activation='relu',input_shape=(28,28,1))) ##adding convolution layer\n"
      ],
      "metadata": {
        "id": "eJivERSCQobQ"
      },
      "execution_count": 3,
      "outputs": []
    },
    {
      "cell_type": "code",
      "source": [
        "model.add(layers.MaxPooling2D((2, 2)))\n"
      ],
      "metadata": {
        "id": "ELw9vDTcQq7J"
      },
      "execution_count": 4,
      "outputs": []
    },
    {
      "cell_type": "code",
      "source": [
        "model.add(layers.Conv2D(64, (5, 5), activation='relu'))\n"
      ],
      "metadata": {
        "id": "_GtHlEqSQtOl"
      },
      "execution_count": 5,
      "outputs": []
    },
    {
      "cell_type": "code",
      "source": [
        "model.add(layers.MaxPooling2D((2, 2)))\n"
      ],
      "metadata": {
        "id": "o5G1vy9hQv3F"
      },
      "execution_count": 6,
      "outputs": []
    },
    {
      "cell_type": "code",
      "source": [
        "model.add(layers.Flatten())"
      ],
      "metadata": {
        "id": "c8TxAhtfQyRx"
      },
      "execution_count": 7,
      "outputs": []
    },
    {
      "cell_type": "code",
      "source": [
        "model.add(layers.Dense(10, activation='softmax'))\n"
      ],
      "metadata": {
        "id": "qIFrFKoaQ0zh"
      },
      "execution_count": 8,
      "outputs": []
    },
    {
      "cell_type": "code",
      "source": [
        "model.summary()\n"
      ],
      "metadata": {
        "colab": {
          "base_uri": "https://localhost:8080/"
        },
        "id": "O3dJNM9XQ3yw",
        "outputId": "a1c600c9-4811-4de5-c1ad-e44247e072f0"
      },
      "execution_count": 9,
      "outputs": [
        {
          "output_type": "stream",
          "name": "stdout",
          "text": [
            "Model: \"sequential\"\n",
            "_________________________________________________________________\n",
            " Layer (type)                Output Shape              Param #   \n",
            "=================================================================\n",
            " conv2d (Conv2D)             (None, 24, 24, 32)        832       \n",
            "                                                                 \n",
            " max_pooling2d (MaxPooling2D  (None, 12, 12, 32)       0         \n",
            " )                                                               \n",
            "                                                                 \n",
            " conv2d_1 (Conv2D)           (None, 8, 8, 64)          51264     \n",
            "                                                                 \n",
            " max_pooling2d_1 (MaxPooling  (None, 4, 4, 64)         0         \n",
            " 2D)                                                             \n",
            "                                                                 \n",
            " flatten (Flatten)           (None, 1024)              0         \n",
            "                                                                 \n",
            " dense (Dense)               (None, 10)                10250     \n",
            "                                                                 \n",
            "=================================================================\n",
            "Total params: 62,346\n",
            "Trainable params: 62,346\n",
            "Non-trainable params: 0\n",
            "_________________________________________________________________\n"
          ]
        }
      ]
    },
    {
      "cell_type": "code",
      "source": [
        "\n",
        "(train_images, train_labels), (test_images, test_labels) = mnist.load_data()\n"
      ],
      "metadata": {
        "colab": {
          "base_uri": "https://localhost:8080/"
        },
        "id": "5zvKBKz2Q6nY",
        "outputId": "3308c685-c340-4fa8-9f3f-2ac44480b01b"
      },
      "execution_count": 10,
      "outputs": [
        {
          "output_type": "stream",
          "name": "stdout",
          "text": [
            "Downloading data from https://storage.googleapis.com/tensorflow/tf-keras-datasets/mnist.npz\n",
            "11490434/11490434 [==============================] - 0s 0us/step\n"
          ]
        }
      ]
    },
    {
      "cell_type": "code",
      "source": [
        "train_images = train_images.reshape((60000, 28, 28, 1))\n",
        "train_images = train_images.astype('float32') / 255\n",
        "test_images = test_images.reshape((10000, 28, 28, 1))\n",
        "test_images = test_images.astype('float32') / 255\n"
      ],
      "metadata": {
        "id": "fZTzkeJgQ9be"
      },
      "execution_count": 11,
      "outputs": []
    },
    {
      "cell_type": "code",
      "source": [
        "train_labels = to_categorical(train_labels)\n",
        "test_labels = to_categorical(test_labels)\n"
      ],
      "metadata": {
        "id": "7E3MqrHlRAHX"
      },
      "execution_count": 12,
      "outputs": []
    },
    {
      "cell_type": "code",
      "source": [
        "model.compile(loss='categorical_crossentropy',\n",
        "              optimizer='sgd',\n",
        "              metrics=['accuracy'])\n"
      ],
      "metadata": {
        "id": "nJ1rsYKcRDMn"
      },
      "execution_count": 13,
      "outputs": []
    },
    {
      "cell_type": "code",
      "source": [
        "## train the model, iterating on the data in batches\n",
        "# of 100 samples\n",
        "model.fit(train_images, train_labels,\n",
        "          batch_size=100,\n",
        "          epochs=10,\n",
        "          verbose=1)\n"
      ],
      "metadata": {
        "colab": {
          "base_uri": "https://localhost:8080/"
        },
        "id": "1MieJNcbRGJx",
        "outputId": "e2a92ce9-e2b8-455a-9d0e-45f198a687f1"
      },
      "execution_count": 14,
      "outputs": [
        {
          "output_type": "stream",
          "name": "stdout",
          "text": [
            "Epoch 1/10\n",
            "600/600 [==============================] - 66s 108ms/step - loss: 1.0359 - accuracy: 0.7273\n",
            "Epoch 2/10\n",
            "600/600 [==============================] - 65s 108ms/step - loss: 0.2512 - accuracy: 0.9265\n",
            "Epoch 3/10\n",
            "600/600 [==============================] - 62s 103ms/step - loss: 0.1804 - accuracy: 0.9480\n",
            "Epoch 4/10\n",
            "600/600 [==============================] - 61s 102ms/step - loss: 0.1443 - accuracy: 0.9586\n",
            "Epoch 5/10\n",
            "600/600 [==============================] - 62s 103ms/step - loss: 0.1222 - accuracy: 0.9642\n",
            "Epoch 6/10\n",
            "600/600 [==============================] - 62s 103ms/step - loss: 0.1073 - accuracy: 0.9692\n",
            "Epoch 7/10\n",
            "600/600 [==============================] - 63s 104ms/step - loss: 0.0967 - accuracy: 0.9717\n",
            "Epoch 8/10\n",
            "600/600 [==============================] - 62s 103ms/step - loss: 0.0889 - accuracy: 0.9740\n",
            "Epoch 9/10\n",
            "600/600 [==============================] - 64s 106ms/step - loss: 0.0823 - accuracy: 0.9760\n",
            "Epoch 10/10\n",
            "600/600 [==============================] - 63s 105ms/step - loss: 0.0771 - accuracy: 0.9773\n"
          ]
        },
        {
          "output_type": "execute_result",
          "data": {
            "text/plain": [
              "<keras.callbacks.History at 0x7fb0cbfad5d0>"
            ]
          },
          "metadata": {},
          "execution_count": 14
        }
      ]
    },
    {
      "cell_type": "code",
      "source": [
        "test_loss, test_acc = model.evaluate(test_images, test_labels)\n",
        "print('Test accuracy:', test_acc)"
      ],
      "metadata": {
        "colab": {
          "base_uri": "https://localhost:8080/"
        },
        "id": "xhZJLAClRJwu",
        "outputId": "429b2eeb-be5e-464d-d1b0-5752e86da841"
      },
      "execution_count": 15,
      "outputs": [
        {
          "output_type": "stream",
          "name": "stdout",
          "text": [
            "313/313 [==============================] - 4s 12ms/step - loss: 0.0639 - accuracy: 0.9817\n",
            "Test accuracy: 0.9817000031471252\n"
          ]
        }
      ]
    }
  ]
}